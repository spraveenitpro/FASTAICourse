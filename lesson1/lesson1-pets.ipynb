{
 "cells": [
  {
   "cell_type": "markdown",
   "metadata": {},
   "source": [
    "# Lesson 1 - What's your pet"
   ]
  },
  {
   "cell_type": "markdown",
   "metadata": {},
   "source": [
    "Welcome to lesson 1! For those of you who are using a Jupyter Notebook for the first time, you can learn about this useful tool in a tutorial we prepared specially for you; click `File`->`Open` now and click `00_notebook_tutorial.ipynb`. \n",
    "\n",
    "In this lesson we will build our first image classifier from scratch, and see if we can achieve world-class results. Let's dive in!\n",
    "\n",
    "Every notebook starts with the following three lines; they ensure that any edits to libraries you make are reloaded here automatically, and also that any charts or images displayed are shown in this notebook."
   ]
  },
  {
   "cell_type": "markdown",
   "metadata": {},
   "source": [
    "We import all the necessary packages. We are going to work with the [fastai V1 library](http://www.fast.ai/2018/10/02/fastai-ai/) which sits on top of [Pytorch 1.0](https://hackernoon.com/pytorch-1-0-468332ba5163). The fastai library provides many useful functions that enable us to quickly and easily build neural networks and train our models."
   ]
  },
  {
   "cell_type": "code",
   "execution_count": null,
   "metadata": {},
   "outputs": [
    {
     "name": "stdout",
     "output_type": "stream",
     "text": [
      "Requirement already satisfied: fastai in /Users/praveen/Documents/code/study/fastaicourse/venv/lib/python3.13/site-packages (2.8.4)\n",
      "Requirement already satisfied: pip in /Users/praveen/Documents/code/study/fastaicourse/venv/lib/python3.13/site-packages (from fastai) (25.2)\n",
      "Requirement already satisfied: packaging in /Users/praveen/Documents/code/study/fastaicourse/venv/lib/python3.13/site-packages (from fastai) (25.0)\n",
      "Requirement already satisfied: fastdownload<2,>=0.0.5 in /Users/praveen/Documents/code/study/fastaicourse/venv/lib/python3.13/site-packages (from fastai) (0.0.7)\n",
      "Requirement already satisfied: fastcore<1.9,>=1.8.0 in /Users/praveen/Documents/code/study/fastaicourse/venv/lib/python3.13/site-packages (from fastai) (1.8.8)\n",
      "Requirement already satisfied: fasttransform>=0.0.2 in /Users/praveen/Documents/code/study/fastaicourse/venv/lib/python3.13/site-packages (from fastai) (0.0.2)\n",
      "Requirement already satisfied: torchvision>=0.11 in /Users/praveen/Documents/code/study/fastaicourse/venv/lib/python3.13/site-packages (from fastai) (0.23.0)\n",
      "Requirement already satisfied: matplotlib in /Users/praveen/Documents/code/study/fastaicourse/venv/lib/python3.13/site-packages (from fastai) (3.10.5)\n",
      "Requirement already satisfied: pandas in /Users/praveen/Documents/code/study/fastaicourse/venv/lib/python3.13/site-packages (from fastai) (2.3.2)\n",
      "Requirement already satisfied: requests in /Users/praveen/Documents/code/study/fastaicourse/venv/lib/python3.13/site-packages (from fastai) (2.32.5)\n",
      "Requirement already satisfied: pyyaml in /Users/praveen/Documents/code/study/fastaicourse/venv/lib/python3.13/site-packages (from fastai) (6.0.2)\n",
      "Requirement already satisfied: fastprogress>=0.2.4 in /Users/praveen/Documents/code/study/fastaicourse/venv/lib/python3.13/site-packages (from fastai) (1.0.3)\n",
      "Requirement already satisfied: pillow>=9.0.0 in /Users/praveen/Documents/code/study/fastaicourse/venv/lib/python3.13/site-packages (from fastai) (11.3.0)\n",
      "Requirement already satisfied: scikit-learn in /Users/praveen/Documents/code/study/fastaicourse/venv/lib/python3.13/site-packages (from fastai) (1.7.1)\n",
      "Requirement already satisfied: scipy in /Users/praveen/Documents/code/study/fastaicourse/venv/lib/python3.13/site-packages (from fastai) (1.16.1)\n",
      "Requirement already satisfied: spacy<4 in /Users/praveen/Documents/code/study/fastaicourse/venv/lib/python3.13/site-packages (from fastai) (3.8.7)\n",
      "Requirement already satisfied: plum-dispatch in /Users/praveen/Documents/code/study/fastaicourse/venv/lib/python3.13/site-packages (from fastai) (2.5.7)\n",
      "Requirement already satisfied: cloudpickle in /Users/praveen/Documents/code/study/fastaicourse/venv/lib/python3.13/site-packages (from fastai) (3.1.1)\n",
      "Requirement already satisfied: torch<2.9,>=1.10 in /Users/praveen/Documents/code/study/fastaicourse/venv/lib/python3.13/site-packages (from fastai) (2.8.0)\n",
      "Requirement already satisfied: spacy-legacy<3.1.0,>=3.0.11 in /Users/praveen/Documents/code/study/fastaicourse/venv/lib/python3.13/site-packages (from spacy<4->fastai) (3.0.12)\n",
      "Requirement already satisfied: spacy-loggers<2.0.0,>=1.0.0 in /Users/praveen/Documents/code/study/fastaicourse/venv/lib/python3.13/site-packages (from spacy<4->fastai) (1.0.5)\n",
      "Requirement already satisfied: murmurhash<1.1.0,>=0.28.0 in /Users/praveen/Documents/code/study/fastaicourse/venv/lib/python3.13/site-packages (from spacy<4->fastai) (1.0.13)\n",
      "Requirement already satisfied: cymem<2.1.0,>=2.0.2 in /Users/praveen/Documents/code/study/fastaicourse/venv/lib/python3.13/site-packages (from spacy<4->fastai) (2.0.11)\n",
      "Requirement already satisfied: preshed<3.1.0,>=3.0.2 in /Users/praveen/Documents/code/study/fastaicourse/venv/lib/python3.13/site-packages (from spacy<4->fastai) (3.0.10)\n",
      "Requirement already satisfied: thinc<8.4.0,>=8.3.4 in /Users/praveen/Documents/code/study/fastaicourse/venv/lib/python3.13/site-packages (from spacy<4->fastai) (8.3.6)\n",
      "Requirement already satisfied: wasabi<1.2.0,>=0.9.1 in /Users/praveen/Documents/code/study/fastaicourse/venv/lib/python3.13/site-packages (from spacy<4->fastai) (1.1.3)\n",
      "Requirement already satisfied: srsly<3.0.0,>=2.4.3 in /Users/praveen/Documents/code/study/fastaicourse/venv/lib/python3.13/site-packages (from spacy<4->fastai) (2.5.1)\n",
      "Requirement already satisfied: catalogue<2.1.0,>=2.0.6 in /Users/praveen/Documents/code/study/fastaicourse/venv/lib/python3.13/site-packages (from spacy<4->fastai) (2.0.10)\n",
      "Requirement already satisfied: weasel<0.5.0,>=0.1.0 in /Users/praveen/Documents/code/study/fastaicourse/venv/lib/python3.13/site-packages (from spacy<4->fastai) (0.4.1)\n",
      "Requirement already satisfied: typer<1.0.0,>=0.3.0 in /Users/praveen/Documents/code/study/fastaicourse/venv/lib/python3.13/site-packages (from spacy<4->fastai) (0.16.1)\n",
      "Requirement already satisfied: tqdm<5.0.0,>=4.38.0 in /Users/praveen/Documents/code/study/fastaicourse/venv/lib/python3.13/site-packages (from spacy<4->fastai) (4.67.1)\n",
      "Requirement already satisfied: numpy>=1.19.0 in /Users/praveen/Documents/code/study/fastaicourse/venv/lib/python3.13/site-packages (from spacy<4->fastai) (2.3.2)\n",
      "Requirement already satisfied: pydantic!=1.8,!=1.8.1,<3.0.0,>=1.7.4 in /Users/praveen/Documents/code/study/fastaicourse/venv/lib/python3.13/site-packages (from spacy<4->fastai) (2.11.7)\n",
      "Requirement already satisfied: jinja2 in /Users/praveen/Documents/code/study/fastaicourse/venv/lib/python3.13/site-packages (from spacy<4->fastai) (3.1.6)\n",
      "Requirement already satisfied: setuptools in /Users/praveen/Documents/code/study/fastaicourse/venv/lib/python3.13/site-packages (from spacy<4->fastai) (80.9.0)\n",
      "Requirement already satisfied: langcodes<4.0.0,>=3.2.0 in /Users/praveen/Documents/code/study/fastaicourse/venv/lib/python3.13/site-packages (from spacy<4->fastai) (3.5.0)\n",
      "Requirement already satisfied: language-data>=1.2 in /Users/praveen/Documents/code/study/fastaicourse/venv/lib/python3.13/site-packages (from langcodes<4.0.0,>=3.2.0->spacy<4->fastai) (1.3.0)\n",
      "Requirement already satisfied: annotated-types>=0.6.0 in /Users/praveen/Documents/code/study/fastaicourse/venv/lib/python3.13/site-packages (from pydantic!=1.8,!=1.8.1,<3.0.0,>=1.7.4->spacy<4->fastai) (0.7.0)\n",
      "Requirement already satisfied: pydantic-core==2.33.2 in /Users/praveen/Documents/code/study/fastaicourse/venv/lib/python3.13/site-packages (from pydantic!=1.8,!=1.8.1,<3.0.0,>=1.7.4->spacy<4->fastai) (2.33.2)\n",
      "Requirement already satisfied: typing-extensions>=4.12.2 in /Users/praveen/Documents/code/study/fastaicourse/venv/lib/python3.13/site-packages (from pydantic!=1.8,!=1.8.1,<3.0.0,>=1.7.4->spacy<4->fastai) (4.14.1)\n",
      "Requirement already satisfied: typing-inspection>=0.4.0 in /Users/praveen/Documents/code/study/fastaicourse/venv/lib/python3.13/site-packages (from pydantic!=1.8,!=1.8.1,<3.0.0,>=1.7.4->spacy<4->fastai) (0.4.1)\n",
      "Requirement already satisfied: charset_normalizer<4,>=2 in /Users/praveen/Documents/code/study/fastaicourse/venv/lib/python3.13/site-packages (from requests->fastai) (3.4.3)\n",
      "Requirement already satisfied: idna<4,>=2.5 in /Users/praveen/Documents/code/study/fastaicourse/venv/lib/python3.13/site-packages (from requests->fastai) (3.10)\n",
      "Requirement already satisfied: urllib3<3,>=1.21.1 in /Users/praveen/Documents/code/study/fastaicourse/venv/lib/python3.13/site-packages (from requests->fastai) (2.5.0)\n",
      "Requirement already satisfied: certifi>=2017.4.17 in /Users/praveen/Documents/code/study/fastaicourse/venv/lib/python3.13/site-packages (from requests->fastai) (2025.8.3)\n",
      "Requirement already satisfied: blis<1.4.0,>=1.3.0 in /Users/praveen/Documents/code/study/fastaicourse/venv/lib/python3.13/site-packages (from thinc<8.4.0,>=8.3.4->spacy<4->fastai) (1.3.0)\n",
      "Requirement already satisfied: confection<1.0.0,>=0.0.1 in /Users/praveen/Documents/code/study/fastaicourse/venv/lib/python3.13/site-packages (from thinc<8.4.0,>=8.3.4->spacy<4->fastai) (0.1.5)\n",
      "Requirement already satisfied: filelock in /Users/praveen/Documents/code/study/fastaicourse/venv/lib/python3.13/site-packages (from torch<2.9,>=1.10->fastai) (3.19.1)\n",
      "Requirement already satisfied: sympy>=1.13.3 in /Users/praveen/Documents/code/study/fastaicourse/venv/lib/python3.13/site-packages (from torch<2.9,>=1.10->fastai) (1.14.0)\n",
      "Requirement already satisfied: networkx in /Users/praveen/Documents/code/study/fastaicourse/venv/lib/python3.13/site-packages (from torch<2.9,>=1.10->fastai) (3.5)\n",
      "Requirement already satisfied: fsspec in /Users/praveen/Documents/code/study/fastaicourse/venv/lib/python3.13/site-packages (from torch<2.9,>=1.10->fastai) (2025.3.0)\n",
      "Requirement already satisfied: click>=8.0.0 in /Users/praveen/Documents/code/study/fastaicourse/venv/lib/python3.13/site-packages (from typer<1.0.0,>=0.3.0->spacy<4->fastai) (8.2.1)\n",
      "Requirement already satisfied: shellingham>=1.3.0 in /Users/praveen/Documents/code/study/fastaicourse/venv/lib/python3.13/site-packages (from typer<1.0.0,>=0.3.0->spacy<4->fastai) (1.5.4)\n",
      "Requirement already satisfied: rich>=10.11.0 in /Users/praveen/Documents/code/study/fastaicourse/venv/lib/python3.13/site-packages (from typer<1.0.0,>=0.3.0->spacy<4->fastai) (14.1.0)\n",
      "Requirement already satisfied: cloudpathlib<1.0.0,>=0.7.0 in /Users/praveen/Documents/code/study/fastaicourse/venv/lib/python3.13/site-packages (from weasel<0.5.0,>=0.1.0->spacy<4->fastai) (0.21.1)\n",
      "Requirement already satisfied: smart-open<8.0.0,>=5.2.1 in /Users/praveen/Documents/code/study/fastaicourse/venv/lib/python3.13/site-packages (from weasel<0.5.0,>=0.1.0->spacy<4->fastai) (7.3.0.post1)\n",
      "Requirement already satisfied: wrapt in /Users/praveen/Documents/code/study/fastaicourse/venv/lib/python3.13/site-packages (from smart-open<8.0.0,>=5.2.1->weasel<0.5.0,>=0.1.0->spacy<4->fastai) (1.17.3)\n",
      "Requirement already satisfied: marisa-trie>=1.1.0 in /Users/praveen/Documents/code/study/fastaicourse/venv/lib/python3.13/site-packages (from language-data>=1.2->langcodes<4.0.0,>=3.2.0->spacy<4->fastai) (1.3.0)\n",
      "Requirement already satisfied: markdown-it-py>=2.2.0 in /Users/praveen/Documents/code/study/fastaicourse/venv/lib/python3.13/site-packages (from rich>=10.11.0->typer<1.0.0,>=0.3.0->spacy<4->fastai) (4.0.0)\n",
      "Requirement already satisfied: pygments<3.0.0,>=2.13.0 in /Users/praveen/Documents/code/study/fastaicourse/venv/lib/python3.13/site-packages (from rich>=10.11.0->typer<1.0.0,>=0.3.0->spacy<4->fastai) (2.19.2)\n",
      "Requirement already satisfied: mdurl~=0.1 in /Users/praveen/Documents/code/study/fastaicourse/venv/lib/python3.13/site-packages (from markdown-it-py>=2.2.0->rich>=10.11.0->typer<1.0.0,>=0.3.0->spacy<4->fastai) (0.1.2)\n",
      "Requirement already satisfied: mpmath<1.4,>=1.1.0 in /Users/praveen/Documents/code/study/fastaicourse/venv/lib/python3.13/site-packages (from sympy>=1.13.3->torch<2.9,>=1.10->fastai) (1.3.0)\n",
      "Requirement already satisfied: MarkupSafe>=2.0 in /Users/praveen/Documents/code/study/fastaicourse/venv/lib/python3.13/site-packages (from jinja2->spacy<4->fastai) (3.0.2)\n",
      "Requirement already satisfied: contourpy>=1.0.1 in /Users/praveen/Documents/code/study/fastaicourse/venv/lib/python3.13/site-packages (from matplotlib->fastai) (1.3.3)\n",
      "Requirement already satisfied: cycler>=0.10 in /Users/praveen/Documents/code/study/fastaicourse/venv/lib/python3.13/site-packages (from matplotlib->fastai) (0.12.1)\n",
      "Requirement already satisfied: fonttools>=4.22.0 in /Users/praveen/Documents/code/study/fastaicourse/venv/lib/python3.13/site-packages (from matplotlib->fastai) (4.59.1)\n",
      "Requirement already satisfied: kiwisolver>=1.3.1 in /Users/praveen/Documents/code/study/fastaicourse/venv/lib/python3.13/site-packages (from matplotlib->fastai) (1.4.9)\n",
      "Requirement already satisfied: pyparsing>=2.3.1 in /Users/praveen/Documents/code/study/fastaicourse/venv/lib/python3.13/site-packages (from matplotlib->fastai) (3.2.3)\n",
      "Requirement already satisfied: python-dateutil>=2.7 in /Users/praveen/Documents/code/study/fastaicourse/venv/lib/python3.13/site-packages (from matplotlib->fastai) (2.9.0.post0)\n",
      "Requirement already satisfied: six>=1.5 in /Users/praveen/Documents/code/study/fastaicourse/venv/lib/python3.13/site-packages (from python-dateutil>=2.7->matplotlib->fastai) (1.17.0)\n",
      "Requirement already satisfied: pytz>=2020.1 in /Users/praveen/Documents/code/study/fastaicourse/venv/lib/python3.13/site-packages (from pandas->fastai) (2025.2)\n",
      "Requirement already satisfied: tzdata>=2022.7 in /Users/praveen/Documents/code/study/fastaicourse/venv/lib/python3.13/site-packages (from pandas->fastai) (2025.2)\n",
      "Requirement already satisfied: beartype>=0.16.2 in /Users/praveen/Documents/code/study/fastaicourse/venv/lib/python3.13/site-packages (from plum-dispatch->fastai) (0.21.0)\n",
      "Requirement already satisfied: joblib>=1.2.0 in /Users/praveen/Documents/code/study/fastaicourse/venv/lib/python3.13/site-packages (from scikit-learn->fastai) (1.5.1)\n",
      "Requirement already satisfied: threadpoolctl>=3.1.0 in /Users/praveen/Documents/code/study/fastaicourse/venv/lib/python3.13/site-packages (from scikit-learn->fastai) (3.6.0)\n",
      "Note: you may need to restart the kernel to use updated packages.\n",
      "Downloading images...\n",
      "Downloading annotations...\n",
      "Extracting images...\n"
     ]
    },
    {
     "name": "stderr",
     "output_type": "stream",
     "text": [
      "/var/folders/kv/m13155mx5896bt_ntbg6qwy80000gn/T/ipykernel_94654/2943717590.py:28: DeprecationWarning: Python 3.14 will, by default, filter extracted tar archives and reject files or modify their metadata. Use the filter argument to control this behavior.\n",
      "  tar.extractall(data_path)\n"
     ]
    },
    {
     "name": "stdout",
     "output_type": "stream",
     "text": [
      "Extracting annotations...\n"
     ]
    },
    {
     "name": "stderr",
     "output_type": "stream",
     "text": [
      "/var/folders/kv/m13155mx5896bt_ntbg6qwy80000gn/T/ipykernel_94654/2943717590.py:32: DeprecationWarning: Python 3.14 will, by default, filter extracted tar archives and reject files or modify their metadata. Use the filter argument to control this behavior.\n",
      "  tar.extractall(data_path)\n"
     ]
    },
    {
     "name": "stdout",
     "output_type": "stream",
     "text": [
      "Done! Extraction complete!\n"
     ]
    }
   ],
   "source": [
    "%pip install fastai\n",
    "from fastai.vision.all import *\n",
    "from pathlib import Path\n",
    "import os\n",
    "import tarfile\n",
    "from urllib.request import urlretrieve  # correct module\n",
    "\n",
    "\n",
    "#Step 1: Download tar files if not existing\n",
    "data_path = Path('data')\n",
    "data_path.mkdir(exist_ok=True)\n",
    "\n",
    "images_tar = data_path / 'images.tar.gz'\n",
    "annotations_tar = data_path / 'annotations.tar.gz'\n",
    "\n",
    "if not images_tar.exists():\n",
    "    print(\"Downloading images...\")\n",
    "    urlretrieve(\"https://thor.robots.ox.ac.uk/~vgg/data/pets/images.tar.gz\", images_tar)\n",
    "\n",
    "if not annotations_tar.exists():\n",
    "    print(\"Downloading annotations...\")\n",
    "    urlretrieve(\"https://thor.robots.ox.ac.uk/~vgg/data/pets/annotations.tar.gz\", annotations_tar)\n",
    "\n",
    "#Step 2: Extract the tar files\n",
    "\n",
    "print(\"Extracting images...\")\n",
    "with tarfile.open(images_tar) as tar:\n",
    "    tar.extractall(data_path)\n",
    "\n",
    "print(\"Extracting annotations...\")\n",
    "with tarfile.open(annotations_tar) as tar:\n",
    "    tar.extractall(data_path)\n",
    "\n",
    "print(\"Done! Extraction complete!\")\n",
    "\n"
   ]
  },
  {
   "cell_type": "code",
   "execution_count": null,
   "metadata": {},
   "outputs": [],
   "source": [
    "\n",
    "bs = 64\n",
    "# bs = 16   # uncomment this line if you run out of memory even after clicking Kernel->Restart"
   ]
  },
  {
   "cell_type": "markdown",
   "metadata": {},
   "source": [
    "## Looking at the data"
   ]
  },
  {
   "cell_type": "markdown",
   "metadata": {},
   "source": [
    "We are going to use the [Oxford-IIIT Pet Dataset](http://www.robots.ox.ac.uk/~vgg/data/pets/) by [O. M. Parkhi et al., 2012](http://www.robots.ox.ac.uk/~vgg/publications/2012/parkhi12a/parkhi12a.pdf) which features 12 cat breeds and 25 dogs breeds. Our model will need to learn to differentiate between these 37 distinct categories. According to their paper, the best accuracy they could get in 2012 was 59.21%, using a complex model that was specific to pet detection, with separate \"Image\", \"Head\", and \"Body\" models for the pet photos. Let's see how accurate we can be using deep learning!\n",
    "\n",
    "We are going to use the `untar_data` function to which we must pass a URL as an argument and which will download and extract the data."
   ]
  },
  {
   "cell_type": "code",
   "execution_count": null,
   "metadata": {},
   "outputs": [],
   "source": [
    "# Step 2: Set up the path and verify structure\n",
    "# Set the path to your extracted dataset\n",
    "path = Path('data')\n",
    "print(f\"Path to data: {path}\")\n",
    "print(f\"Path exists: {path.exists()}\")\n",
    "\n",
    "# Check what was extracted\n",
    "\n",
    "print(\"\\n Contents after extraction:\")\n",
    "for item in path.iterdir():\n",
    "    print(f\" - {item.name}\")\n",
    "\n",
    "\n"
   ]
  },
  {
   "cell_type": "code",
   "execution_count": null,
   "metadata": {},
   "outputs": [],
   "source": [
    "path.ls()"
   ]
  },
  {
   "cell_type": "code",
   "execution_count": null,
   "metadata": {},
   "outputs": [],
   "source": [
    "path_anno = path/'annotations'\n",
    "path_img = path/'images'"
   ]
  },
  {
   "cell_type": "markdown",
   "metadata": {},
   "source": [
    "The first thing we do when we approach a problem is to take a look at the data. We _always_ need to understand very well what the problem is and what the data looks like before we can figure out how to solve it. Taking a look at the data means understanding how the data directories are structured, what the labels are and what some sample images look like.\n",
    "\n",
    "The main difference between the handling of image classification datasets is the way labels are stored. In this particular dataset, labels are stored in the filenames themselves. We will need to extract them to be able to classify the images into the correct categories. Fortunately, the fastai library has a handy function made exactly for this, `ImageDataBunch.from_name_re` gets the labels from the filenames using a [regular expression](https://docs.python.org/3.6/library/re.html)."
   ]
  },
  {
   "cell_type": "code",
   "execution_count": null,
   "metadata": {},
   "outputs": [],
   "source": [
    "fnames = get_image_files(path_img)\n",
    "fnames[:2]"
   ]
  },
  {
   "cell_type": "markdown",
   "metadata": {},
   "source": [
    "Set the random seed to two to guarantee that the same validation set is every time. This will give you consistent results with what you see in the lesson video."
   ]
  },
  {
   "cell_type": "code",
   "execution_count": null,
   "metadata": {},
   "outputs": [],
   "source": [
    "np.random.seed(2)\n",
    "print(np.random.shuffle([1,2,3,4,5]) )\n",
    "pat = r'/([^/]+)_\\d+.jpg$'"
   ]
  },
  {
   "cell_type": "code",
   "execution_count": null,
   "metadata": {},
   "outputs": [],
   "source": [
    "# Step 3: Create DataBlock and DataLoaders\n",
    "dblock = DataBlock(\n",
    "    blocks=(ImageBlock, CategoryBlock),\n",
    "    get_items=get_image_files,\n",
    "    get_y=using_attr(RegexLabeller(r'(.+)_\\d+.jpg$'), 'name'),\n",
    "    splitter=RandomSplitter(seed=42),\n",
    "    item_tfms=Resize(224),\n",
    "    batch_tfms=aug_transforms(size=224, min_scale=0.75)\n",
    ")\n",
    "\n",
    "dls = dblock.dataloaders(path/'images')\n",
    "dls.show_batch(max_n=6)"
   ]
  },
  {
   "cell_type": "markdown",
   "metadata": {},
   "source": [
    "## Training: resnet34"
   ]
  },
  {
   "cell_type": "markdown",
   "metadata": {},
   "source": [
    "Now we will start training our model. We will use a [convolutional neural network](http://cs231n.github.io/convolutional-networks/) backbone and a fully connected head with a single hidden layer as a classifier. Don't know what these things mean? Not to worry, we will dive deeper in the coming lessons. For the moment you need to know that we are building a model which will take images as input and will output the predicted probability for each of the categories (in this case, it will have 37 outputs).\n",
    "\n",
    "We will train for 4 epochs (4 cycles through all our data)."
   ]
  },
  {
   "cell_type": "code",
   "execution_count": null,
   "metadata": {},
   "outputs": [],
   "source": [
    "#learn = cnn_learner(data, models.resnet34, metrics=error_rate)\n",
    "# Create and train the model\n",
    "learn = vision_learner(dls, resnet34, metrics=error_rate)\n",
    "learn.fine_tune(3)"
   ]
  },
  {
   "cell_type": "code",
   "execution_count": null,
   "metadata": {},
   "outputs": [],
   "source": [
    "learn.model"
   ]
  },
  {
   "cell_type": "code",
   "execution_count": null,
   "metadata": {},
   "outputs": [],
   "source": [
    "learn.fit_one_cycle(4)"
   ]
  },
  {
   "cell_type": "code",
   "execution_count": null,
   "metadata": {},
   "outputs": [],
   "source": [
    "learn.save('stage-1')\n",
    "learn.export('models/stage-1.pkl')"
   ]
  },
  {
   "cell_type": "markdown",
   "metadata": {},
   "source": [
    "## Results"
   ]
  },
  {
   "cell_type": "markdown",
   "metadata": {},
   "source": [
    "Let's see what results we have got. \n",
    "\n",
    "We will first see which were the categories that the model most confused with one another. We will try to see if what the model predicted was reasonable or not. In this case the mistakes look reasonable (none of the mistakes seems obviously naive). This is an indicator that our classifier is working correctly. \n",
    "\n",
    "Furthermore, when we plot the confusion matrix, we can see that the distribution is heavily skewed: the model makes the same mistakes over and over again but it rarely confuses other categories. This suggests that it just finds it difficult to distinguish some specific categories between each other; this is normal behaviour."
   ]
  },
  {
   "cell_type": "code",
   "execution_count": 98,
   "metadata": {},
   "outputs": [
    {
     "name": "stdout",
     "output_type": "stream",
     "text": [
      "Classes: ['Abyssinian', 'Bengal', 'Birman', 'Bombay', 'British_Shorthair', 'Egyptian_Mau', 'Maine_Coon', 'Persian', 'Ragdoll', 'Russian_Blue', 'Siamese', 'Sphynx', 'american_bulldog', 'american_pit_bull_terrier', 'basset_hound', 'beagle', 'boxer', 'chihuahua', 'english_cocker_spaniel', 'english_setter', 'german_shorthaired', 'great_pyrenees', 'havanese', 'japanese_chin', 'keeshond', 'leonberger', 'miniature_pinscher', 'newfoundland', 'pomeranian', 'pug', 'saint_bernard', 'samoyed', 'scottish_terrier', 'shiba_inu', 'staffordshire_bull_terrier', 'wheaten_terrier', 'yorkshire_terrier']\n"
     ]
    },
    {
     "name": "stderr",
     "output_type": "stream",
     "text": [
      "/Users/praveen/Documents/code/study/fastaicourse/venv/lib/python3.13/site-packages/fastai/learner.py:455: UserWarning: load_learner` uses Python's insecure pickle module, which can execute malicious arbitrary code when loading. Only load files you trust.\n",
      "If you only need to load model weights and optimizer state, use the safe `Learner.load` instead.\n",
      "  warn(\"load_learner` uses Python's insecure pickle module, which can execute malicious arbitrary code when loading. Only load files you trust.\\nIf you only need to load model weights and optimizer state, use the safe `Learner.load` instead.\")\n"
     ]
    },
    {
     "data": {
      "text/html": [
       "\n",
       "<style>\n",
       "    /* Turns off some styling */\n",
       "    progress {\n",
       "        /* gets rid of default border in Firefox and Opera. */\n",
       "        border: none;\n",
       "        /* Needs to be in here for Safari polyfill so background images work as expected. */\n",
       "        background-size: auto;\n",
       "    }\n",
       "    progress:not([value]), progress:not([value])::-webkit-progress-bar {\n",
       "        background: repeating-linear-gradient(45deg, #7e7e7e, #7e7e7e 10px, #5c5c5c 10px, #5c5c5c 20px);\n",
       "    }\n",
       "    .progress-bar-interrupted, .progress-bar-interrupted::-webkit-progress-bar {\n",
       "        background: #F44336;\n",
       "    }\n",
       "</style>\n"
      ],
      "text/plain": [
       "<IPython.core.display.HTML object>"
      ]
     },
     "metadata": {},
     "output_type": "display_data"
    },
    {
     "data": {
      "text/html": [],
      "text/plain": [
       "<IPython.core.display.HTML object>"
      ]
     },
     "metadata": {},
     "output_type": "display_data"
    },
    {
     "name": "stdout",
     "output_type": "stream",
     "text": [
      "This is a: Siamese.\n",
      "Probability it is a Siamese: 0.6379\n"
     ]
    },
    {
     "data": {
      "text/html": [
       "\n",
       "<style>\n",
       "    /* Turns off some styling */\n",
       "    progress {\n",
       "        /* gets rid of default border in Firefox and Opera. */\n",
       "        border: none;\n",
       "        /* Needs to be in here for Safari polyfill so background images work as expected. */\n",
       "        background-size: auto;\n",
       "    }\n",
       "    progress:not([value]), progress:not([value])::-webkit-progress-bar {\n",
       "        background: repeating-linear-gradient(45deg, #7e7e7e, #7e7e7e 10px, #5c5c5c 10px, #5c5c5c 20px);\n",
       "    }\n",
       "    .progress-bar-interrupted, .progress-bar-interrupted::-webkit-progress-bar {\n",
       "        background: #F44336;\n",
       "    }\n",
       "</style>\n"
      ],
      "text/plain": [
       "<IPython.core.display.HTML object>"
      ]
     },
     "metadata": {},
     "output_type": "display_data"
    },
    {
     "data": {
      "text/html": [],
      "text/plain": [
       "<IPython.core.display.HTML object>"
      ]
     },
     "metadata": {},
     "output_type": "display_data"
    },
    {
     "name": "stdout",
     "output_type": "stream",
     "text": [
      "This is a: Sphynx.\n",
      "Probability it is a sphynx: 0.9987\n"
     ]
    }
   ],
   "source": [
    "\n",
    "from fastai.vision.all import *\n",
    "\n",
    "learn = load_learner('models/stage-1.pkl')\n",
    "print(\"Classes:\", learn.dls.vocab)\n",
    "\n",
    "img = PILImage.create('siamese.jpg')\n",
    "pred_class, _, probs = learn.predict(img)\n",
    "\n",
    "print(f\"This is a: {pred_class}.\")\n",
    "print(f\"Probability it is a Siamese: {probs[vocab_list.index('Siamese')]:.4f}\")\n",
    "\n",
    "## Test the same for sphynx.jpg\n",
    "\n",
    "\n",
    "img2 = PILImage.create('sphynx.jpg')\n",
    "pred_class2, _, probs2 = learn.predict(img2)\n",
    "\n",
    "print(f\"This is a: {pred_class2}.\")\n",
    "print(f\"Probability it is a sphynx: {probs2[vocab_list.index('Sphynx')]:.4f}\")\n",
    "\n",
    "\n"
   ]
  }
 ],
 "metadata": {
  "kernelspec": {
   "display_name": "venv",
   "language": "python",
   "name": "python3"
  },
  "language_info": {
   "codemirror_mode": {
    "name": "ipython",
    "version": 3
   },
   "file_extension": ".py",
   "mimetype": "text/x-python",
   "name": "python",
   "nbconvert_exporter": "python",
   "pygments_lexer": "ipython3",
   "version": "3.13.7"
  }
 },
 "nbformat": 4,
 "nbformat_minor": 2
}
