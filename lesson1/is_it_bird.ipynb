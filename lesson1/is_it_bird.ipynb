{
 "cells": [
  {
   "cell_type": "code",
   "execution_count": 13,
   "id": "80b633f5",
   "metadata": {},
   "outputs": [
    {
     "name": "stdout",
     "output_type": "stream",
     "text": [
      "Requirement already satisfied: fastai in /Users/praveen/Documents/code/study/fastaicourse/venv/lib/python3.13/site-packages (2.8.4)\n",
      "Requirement already satisfied: pip in /Users/praveen/Documents/code/study/fastaicourse/venv/lib/python3.13/site-packages (from fastai) (25.2)\n",
      "Requirement already satisfied: packaging in /Users/praveen/Documents/code/study/fastaicourse/venv/lib/python3.13/site-packages (from fastai) (25.0)\n",
      "Requirement already satisfied: fastdownload<2,>=0.0.5 in /Users/praveen/Documents/code/study/fastaicourse/venv/lib/python3.13/site-packages (from fastai) (0.0.7)\n",
      "Requirement already satisfied: fastcore<1.9,>=1.8.0 in /Users/praveen/Documents/code/study/fastaicourse/venv/lib/python3.13/site-packages (from fastai) (1.8.8)\n",
      "Requirement already satisfied: fasttransform>=0.0.2 in /Users/praveen/Documents/code/study/fastaicourse/venv/lib/python3.13/site-packages (from fastai) (0.0.2)\n",
      "Requirement already satisfied: torchvision>=0.11 in /Users/praveen/Documents/code/study/fastaicourse/venv/lib/python3.13/site-packages (from fastai) (0.23.0)\n",
      "Requirement already satisfied: matplotlib in /Users/praveen/Documents/code/study/fastaicourse/venv/lib/python3.13/site-packages (from fastai) (3.10.5)\n",
      "Requirement already satisfied: pandas in /Users/praveen/Documents/code/study/fastaicourse/venv/lib/python3.13/site-packages (from fastai) (2.3.2)\n",
      "Requirement already satisfied: requests in /Users/praveen/Documents/code/study/fastaicourse/venv/lib/python3.13/site-packages (from fastai) (2.32.5)\n",
      "Requirement already satisfied: pyyaml in /Users/praveen/Documents/code/study/fastaicourse/venv/lib/python3.13/site-packages (from fastai) (6.0.2)\n",
      "Requirement already satisfied: fastprogress>=0.2.4 in /Users/praveen/Documents/code/study/fastaicourse/venv/lib/python3.13/site-packages (from fastai) (1.0.3)\n",
      "Requirement already satisfied: pillow>=9.0.0 in /Users/praveen/Documents/code/study/fastaicourse/venv/lib/python3.13/site-packages (from fastai) (11.3.0)\n",
      "Requirement already satisfied: scikit-learn in /Users/praveen/Documents/code/study/fastaicourse/venv/lib/python3.13/site-packages (from fastai) (1.7.1)\n",
      "Requirement already satisfied: scipy in /Users/praveen/Documents/code/study/fastaicourse/venv/lib/python3.13/site-packages (from fastai) (1.16.1)\n",
      "Requirement already satisfied: spacy<4 in /Users/praveen/Documents/code/study/fastaicourse/venv/lib/python3.13/site-packages (from fastai) (3.8.7)\n",
      "Requirement already satisfied: plum-dispatch in /Users/praveen/Documents/code/study/fastaicourse/venv/lib/python3.13/site-packages (from fastai) (2.5.7)\n",
      "Requirement already satisfied: cloudpickle in /Users/praveen/Documents/code/study/fastaicourse/venv/lib/python3.13/site-packages (from fastai) (3.1.1)\n",
      "Requirement already satisfied: torch<2.9,>=1.10 in /Users/praveen/Documents/code/study/fastaicourse/venv/lib/python3.13/site-packages (from fastai) (2.8.0)\n",
      "Requirement already satisfied: spacy-legacy<3.1.0,>=3.0.11 in /Users/praveen/Documents/code/study/fastaicourse/venv/lib/python3.13/site-packages (from spacy<4->fastai) (3.0.12)\n",
      "Requirement already satisfied: spacy-loggers<2.0.0,>=1.0.0 in /Users/praveen/Documents/code/study/fastaicourse/venv/lib/python3.13/site-packages (from spacy<4->fastai) (1.0.5)\n",
      "Requirement already satisfied: murmurhash<1.1.0,>=0.28.0 in /Users/praveen/Documents/code/study/fastaicourse/venv/lib/python3.13/site-packages (from spacy<4->fastai) (1.0.13)\n",
      "Requirement already satisfied: cymem<2.1.0,>=2.0.2 in /Users/praveen/Documents/code/study/fastaicourse/venv/lib/python3.13/site-packages (from spacy<4->fastai) (2.0.11)\n",
      "Requirement already satisfied: preshed<3.1.0,>=3.0.2 in /Users/praveen/Documents/code/study/fastaicourse/venv/lib/python3.13/site-packages (from spacy<4->fastai) (3.0.10)\n",
      "Requirement already satisfied: thinc<8.4.0,>=8.3.4 in /Users/praveen/Documents/code/study/fastaicourse/venv/lib/python3.13/site-packages (from spacy<4->fastai) (8.3.6)\n",
      "Requirement already satisfied: wasabi<1.2.0,>=0.9.1 in /Users/praveen/Documents/code/study/fastaicourse/venv/lib/python3.13/site-packages (from spacy<4->fastai) (1.1.3)\n",
      "Requirement already satisfied: srsly<3.0.0,>=2.4.3 in /Users/praveen/Documents/code/study/fastaicourse/venv/lib/python3.13/site-packages (from spacy<4->fastai) (2.5.1)\n",
      "Requirement already satisfied: catalogue<2.1.0,>=2.0.6 in /Users/praveen/Documents/code/study/fastaicourse/venv/lib/python3.13/site-packages (from spacy<4->fastai) (2.0.10)\n",
      "Requirement already satisfied: weasel<0.5.0,>=0.1.0 in /Users/praveen/Documents/code/study/fastaicourse/venv/lib/python3.13/site-packages (from spacy<4->fastai) (0.4.1)\n",
      "Requirement already satisfied: typer<1.0.0,>=0.3.0 in /Users/praveen/Documents/code/study/fastaicourse/venv/lib/python3.13/site-packages (from spacy<4->fastai) (0.16.1)\n",
      "Requirement already satisfied: tqdm<5.0.0,>=4.38.0 in /Users/praveen/Documents/code/study/fastaicourse/venv/lib/python3.13/site-packages (from spacy<4->fastai) (4.67.1)\n",
      "Requirement already satisfied: numpy>=1.19.0 in /Users/praveen/Documents/code/study/fastaicourse/venv/lib/python3.13/site-packages (from spacy<4->fastai) (2.3.2)\n",
      "Requirement already satisfied: pydantic!=1.8,!=1.8.1,<3.0.0,>=1.7.4 in /Users/praveen/Documents/code/study/fastaicourse/venv/lib/python3.13/site-packages (from spacy<4->fastai) (2.11.7)\n",
      "Requirement already satisfied: jinja2 in /Users/praveen/Documents/code/study/fastaicourse/venv/lib/python3.13/site-packages (from spacy<4->fastai) (3.1.6)\n",
      "Requirement already satisfied: setuptools in /Users/praveen/Documents/code/study/fastaicourse/venv/lib/python3.13/site-packages (from spacy<4->fastai) (80.9.0)\n",
      "Requirement already satisfied: langcodes<4.0.0,>=3.2.0 in /Users/praveen/Documents/code/study/fastaicourse/venv/lib/python3.13/site-packages (from spacy<4->fastai) (3.5.0)\n",
      "Requirement already satisfied: language-data>=1.2 in /Users/praveen/Documents/code/study/fastaicourse/venv/lib/python3.13/site-packages (from langcodes<4.0.0,>=3.2.0->spacy<4->fastai) (1.3.0)\n",
      "Requirement already satisfied: annotated-types>=0.6.0 in /Users/praveen/Documents/code/study/fastaicourse/venv/lib/python3.13/site-packages (from pydantic!=1.8,!=1.8.1,<3.0.0,>=1.7.4->spacy<4->fastai) (0.7.0)\n",
      "Requirement already satisfied: pydantic-core==2.33.2 in /Users/praveen/Documents/code/study/fastaicourse/venv/lib/python3.13/site-packages (from pydantic!=1.8,!=1.8.1,<3.0.0,>=1.7.4->spacy<4->fastai) (2.33.2)\n",
      "Requirement already satisfied: typing-extensions>=4.12.2 in /Users/praveen/Documents/code/study/fastaicourse/venv/lib/python3.13/site-packages (from pydantic!=1.8,!=1.8.1,<3.0.0,>=1.7.4->spacy<4->fastai) (4.14.1)\n",
      "Requirement already satisfied: typing-inspection>=0.4.0 in /Users/praveen/Documents/code/study/fastaicourse/venv/lib/python3.13/site-packages (from pydantic!=1.8,!=1.8.1,<3.0.0,>=1.7.4->spacy<4->fastai) (0.4.1)\n",
      "Requirement already satisfied: charset_normalizer<4,>=2 in /Users/praveen/Documents/code/study/fastaicourse/venv/lib/python3.13/site-packages (from requests->fastai) (3.4.3)\n",
      "Requirement already satisfied: idna<4,>=2.5 in /Users/praveen/Documents/code/study/fastaicourse/venv/lib/python3.13/site-packages (from requests->fastai) (3.10)\n",
      "Requirement already satisfied: urllib3<3,>=1.21.1 in /Users/praveen/Documents/code/study/fastaicourse/venv/lib/python3.13/site-packages (from requests->fastai) (2.5.0)\n",
      "Requirement already satisfied: certifi>=2017.4.17 in /Users/praveen/Documents/code/study/fastaicourse/venv/lib/python3.13/site-packages (from requests->fastai) (2025.8.3)\n",
      "Requirement already satisfied: blis<1.4.0,>=1.3.0 in /Users/praveen/Documents/code/study/fastaicourse/venv/lib/python3.13/site-packages (from thinc<8.4.0,>=8.3.4->spacy<4->fastai) (1.3.0)\n",
      "Requirement already satisfied: confection<1.0.0,>=0.0.1 in /Users/praveen/Documents/code/study/fastaicourse/venv/lib/python3.13/site-packages (from thinc<8.4.0,>=8.3.4->spacy<4->fastai) (0.1.5)\n",
      "Requirement already satisfied: filelock in /Users/praveen/Documents/code/study/fastaicourse/venv/lib/python3.13/site-packages (from torch<2.9,>=1.10->fastai) (3.19.1)\n",
      "Requirement already satisfied: sympy>=1.13.3 in /Users/praveen/Documents/code/study/fastaicourse/venv/lib/python3.13/site-packages (from torch<2.9,>=1.10->fastai) (1.14.0)\n",
      "Requirement already satisfied: networkx in /Users/praveen/Documents/code/study/fastaicourse/venv/lib/python3.13/site-packages (from torch<2.9,>=1.10->fastai) (3.5)\n",
      "Requirement already satisfied: fsspec in /Users/praveen/Documents/code/study/fastaicourse/venv/lib/python3.13/site-packages (from torch<2.9,>=1.10->fastai) (2025.3.0)\n",
      "Requirement already satisfied: click>=8.0.0 in /Users/praveen/Documents/code/study/fastaicourse/venv/lib/python3.13/site-packages (from typer<1.0.0,>=0.3.0->spacy<4->fastai) (8.2.1)\n",
      "Requirement already satisfied: shellingham>=1.3.0 in /Users/praveen/Documents/code/study/fastaicourse/venv/lib/python3.13/site-packages (from typer<1.0.0,>=0.3.0->spacy<4->fastai) (1.5.4)\n",
      "Requirement already satisfied: rich>=10.11.0 in /Users/praveen/Documents/code/study/fastaicourse/venv/lib/python3.13/site-packages (from typer<1.0.0,>=0.3.0->spacy<4->fastai) (14.1.0)\n",
      "Requirement already satisfied: cloudpathlib<1.0.0,>=0.7.0 in /Users/praveen/Documents/code/study/fastaicourse/venv/lib/python3.13/site-packages (from weasel<0.5.0,>=0.1.0->spacy<4->fastai) (0.21.1)\n",
      "Requirement already satisfied: smart-open<8.0.0,>=5.2.1 in /Users/praveen/Documents/code/study/fastaicourse/venv/lib/python3.13/site-packages (from weasel<0.5.0,>=0.1.0->spacy<4->fastai) (7.3.0.post1)\n",
      "Requirement already satisfied: wrapt in /Users/praveen/Documents/code/study/fastaicourse/venv/lib/python3.13/site-packages (from smart-open<8.0.0,>=5.2.1->weasel<0.5.0,>=0.1.0->spacy<4->fastai) (1.17.3)\n",
      "Requirement already satisfied: marisa-trie>=1.1.0 in /Users/praveen/Documents/code/study/fastaicourse/venv/lib/python3.13/site-packages (from language-data>=1.2->langcodes<4.0.0,>=3.2.0->spacy<4->fastai) (1.3.0)\n",
      "Requirement already satisfied: markdown-it-py>=2.2.0 in /Users/praveen/Documents/code/study/fastaicourse/venv/lib/python3.13/site-packages (from rich>=10.11.0->typer<1.0.0,>=0.3.0->spacy<4->fastai) (4.0.0)\n",
      "Requirement already satisfied: pygments<3.0.0,>=2.13.0 in /Users/praveen/Documents/code/study/fastaicourse/venv/lib/python3.13/site-packages (from rich>=10.11.0->typer<1.0.0,>=0.3.0->spacy<4->fastai) (2.19.2)\n",
      "Requirement already satisfied: mdurl~=0.1 in /Users/praveen/Documents/code/study/fastaicourse/venv/lib/python3.13/site-packages (from markdown-it-py>=2.2.0->rich>=10.11.0->typer<1.0.0,>=0.3.0->spacy<4->fastai) (0.1.2)\n",
      "Requirement already satisfied: mpmath<1.4,>=1.1.0 in /Users/praveen/Documents/code/study/fastaicourse/venv/lib/python3.13/site-packages (from sympy>=1.13.3->torch<2.9,>=1.10->fastai) (1.3.0)\n",
      "Requirement already satisfied: MarkupSafe>=2.0 in /Users/praveen/Documents/code/study/fastaicourse/venv/lib/python3.13/site-packages (from jinja2->spacy<4->fastai) (3.0.2)\n",
      "Requirement already satisfied: contourpy>=1.0.1 in /Users/praveen/Documents/code/study/fastaicourse/venv/lib/python3.13/site-packages (from matplotlib->fastai) (1.3.3)\n",
      "Requirement already satisfied: cycler>=0.10 in /Users/praveen/Documents/code/study/fastaicourse/venv/lib/python3.13/site-packages (from matplotlib->fastai) (0.12.1)\n",
      "Requirement already satisfied: fonttools>=4.22.0 in /Users/praveen/Documents/code/study/fastaicourse/venv/lib/python3.13/site-packages (from matplotlib->fastai) (4.59.1)\n",
      "Requirement already satisfied: kiwisolver>=1.3.1 in /Users/praveen/Documents/code/study/fastaicourse/venv/lib/python3.13/site-packages (from matplotlib->fastai) (1.4.9)\n",
      "Requirement already satisfied: pyparsing>=2.3.1 in /Users/praveen/Documents/code/study/fastaicourse/venv/lib/python3.13/site-packages (from matplotlib->fastai) (3.2.3)\n",
      "Requirement already satisfied: python-dateutil>=2.7 in /Users/praveen/Documents/code/study/fastaicourse/venv/lib/python3.13/site-packages (from matplotlib->fastai) (2.9.0.post0)\n",
      "Requirement already satisfied: six>=1.5 in /Users/praveen/Documents/code/study/fastaicourse/venv/lib/python3.13/site-packages (from python-dateutil>=2.7->matplotlib->fastai) (1.17.0)\n",
      "Requirement already satisfied: pytz>=2020.1 in /Users/praveen/Documents/code/study/fastaicourse/venv/lib/python3.13/site-packages (from pandas->fastai) (2025.2)\n",
      "Requirement already satisfied: tzdata>=2022.7 in /Users/praveen/Documents/code/study/fastaicourse/venv/lib/python3.13/site-packages (from pandas->fastai) (2025.2)\n",
      "Requirement already satisfied: beartype>=0.16.2 in /Users/praveen/Documents/code/study/fastaicourse/venv/lib/python3.13/site-packages (from plum-dispatch->fastai) (0.21.0)\n",
      "Requirement already satisfied: joblib>=1.2.0 in /Users/praveen/Documents/code/study/fastaicourse/venv/lib/python3.13/site-packages (from scikit-learn->fastai) (1.5.1)\n",
      "Requirement already satisfied: threadpoolctl>=3.1.0 in /Users/praveen/Documents/code/study/fastaicourse/venv/lib/python3.13/site-packages (from scikit-learn->fastai) (3.6.0)\n",
      "Note: you may need to restart the kernel to use updated packages.\n"
     ]
    }
   ],
   "source": [
    "# 1. Install fastai\n",
    "%pip install fastai\n",
    "from fastai.vision.all import *\n"
   ]
  },
  {
   "cell_type": "code",
   "execution_count": 14,
   "id": "e1d834c4",
   "metadata": {},
   "outputs": [],
   "source": [
    "# 2. Create a datablock\n",
    "dblock = DataBlock(\n",
    "    blocks=(ImageBlock, CategoryBlock),\n",
    "    get_items=get_image_files,\n",
    "    get_y=parent_label,\n",
    "    splitter=RandomSplitter(seed=42),\n",
    "    item_tfms=Resize(224)\n",
    ")\n",
    "dls = dblock.dataloaders('bird_or_not')"
   ]
  },
  {
   "cell_type": "code",
   "execution_count": 15,
   "id": "9d35a594",
   "metadata": {},
   "outputs": [
    {
     "data": {
      "text/html": [
       "\n",
       "<style>\n",
       "    /* Turns off some styling */\n",
       "    progress {\n",
       "        /* gets rid of default border in Firefox and Opera. */\n",
       "        border: none;\n",
       "        /* Needs to be in here for Safari polyfill so background images work as expected. */\n",
       "        background-size: auto;\n",
       "    }\n",
       "    progress:not([value]), progress:not([value])::-webkit-progress-bar {\n",
       "        background: repeating-linear-gradient(45deg, #7e7e7e, #7e7e7e 10px, #5c5c5c 10px, #5c5c5c 20px);\n",
       "    }\n",
       "    .progress-bar-interrupted, .progress-bar-interrupted::-webkit-progress-bar {\n",
       "        background: #F44336;\n",
       "    }\n",
       "</style>\n"
      ],
      "text/plain": [
       "<IPython.core.display.HTML object>"
      ]
     },
     "metadata": {},
     "output_type": "display_data"
    },
    {
     "data": {
      "text/html": [
       "<table border=\"1\" class=\"dataframe\">\n",
       "  <thead>\n",
       "    <tr style=\"text-align: left;\">\n",
       "      <th>epoch</th>\n",
       "      <th>train_loss</th>\n",
       "      <th>valid_loss</th>\n",
       "      <th>accuracy</th>\n",
       "      <th>time</th>\n",
       "    </tr>\n",
       "  </thead>\n",
       "  <tbody>\n",
       "    <tr>\n",
       "      <td>0</td>\n",
       "      <td>0.687948</td>\n",
       "      <td>0.202628</td>\n",
       "      <td>0.940520</td>\n",
       "      <td>00:05</td>\n",
       "    </tr>\n",
       "  </tbody>\n",
       "</table>"
      ],
      "text/plain": [
       "<IPython.core.display.HTML object>"
      ]
     },
     "metadata": {},
     "output_type": "display_data"
    },
    {
     "data": {
      "text/html": [
       "\n",
       "<style>\n",
       "    /* Turns off some styling */\n",
       "    progress {\n",
       "        /* gets rid of default border in Firefox and Opera. */\n",
       "        border: none;\n",
       "        /* Needs to be in here for Safari polyfill so background images work as expected. */\n",
       "        background-size: auto;\n",
       "    }\n",
       "    progress:not([value]), progress:not([value])::-webkit-progress-bar {\n",
       "        background: repeating-linear-gradient(45deg, #7e7e7e, #7e7e7e 10px, #5c5c5c 10px, #5c5c5c 20px);\n",
       "    }\n",
       "    .progress-bar-interrupted, .progress-bar-interrupted::-webkit-progress-bar {\n",
       "        background: #F44336;\n",
       "    }\n",
       "</style>\n"
      ],
      "text/plain": [
       "<IPython.core.display.HTML object>"
      ]
     },
     "metadata": {},
     "output_type": "display_data"
    },
    {
     "data": {
      "text/html": [
       "<table border=\"1\" class=\"dataframe\">\n",
       "  <thead>\n",
       "    <tr style=\"text-align: left;\">\n",
       "      <th>epoch</th>\n",
       "      <th>train_loss</th>\n",
       "      <th>valid_loss</th>\n",
       "      <th>accuracy</th>\n",
       "      <th>time</th>\n",
       "    </tr>\n",
       "  </thead>\n",
       "  <tbody>\n",
       "    <tr>\n",
       "      <td>0</td>\n",
       "      <td>0.200470</td>\n",
       "      <td>0.044244</td>\n",
       "      <td>0.988848</td>\n",
       "      <td>00:05</td>\n",
       "    </tr>\n",
       "    <tr>\n",
       "      <td>1</td>\n",
       "      <td>0.139424</td>\n",
       "      <td>0.016397</td>\n",
       "      <td>0.996283</td>\n",
       "      <td>00:05</td>\n",
       "    </tr>\n",
       "    <tr>\n",
       "      <td>2</td>\n",
       "      <td>0.095395</td>\n",
       "      <td>0.009484</td>\n",
       "      <td>0.996283</td>\n",
       "      <td>00:05</td>\n",
       "    </tr>\n",
       "  </tbody>\n",
       "</table>"
      ],
      "text/plain": [
       "<IPython.core.display.HTML object>"
      ]
     },
     "metadata": {},
     "output_type": "display_data"
    }
   ],
   "source": [
    "# 3. Train the model\n",
    "learn = vision_learner(dls, resnet18, metrics=accuracy)\n",
    "learn.fine_tune(3)"
   ]
  },
  {
   "cell_type": "code",
   "execution_count": 19,
   "id": "eab50969",
   "metadata": {},
   "outputs": [
    {
     "data": {
      "text/html": [
       "\n",
       "<style>\n",
       "    /* Turns off some styling */\n",
       "    progress {\n",
       "        /* gets rid of default border in Firefox and Opera. */\n",
       "        border: none;\n",
       "        /* Needs to be in here for Safari polyfill so background images work as expected. */\n",
       "        background-size: auto;\n",
       "    }\n",
       "    progress:not([value]), progress:not([value])::-webkit-progress-bar {\n",
       "        background: repeating-linear-gradient(45deg, #7e7e7e, #7e7e7e 10px, #5c5c5c 10px, #5c5c5c 20px);\n",
       "    }\n",
       "    .progress-bar-interrupted, .progress-bar-interrupted::-webkit-progress-bar {\n",
       "        background: #F44336;\n",
       "    }\n",
       "</style>\n"
      ],
      "text/plain": [
       "<IPython.core.display.HTML object>"
      ]
     },
     "metadata": {},
     "output_type": "display_data"
    },
    {
     "data": {
      "text/html": [],
      "text/plain": [
       "<IPython.core.display.HTML object>"
      ]
     },
     "metadata": {},
     "output_type": "display_data"
    },
    {
     "name": "stdout",
     "output_type": "stream",
     "text": [
      "This is a: bird.\n",
      "Probability it is a bird: 1.0000\n"
     ]
    }
   ],
   "source": [
    "# 4. Use the model\n",
    "is_bird,_,probs = learn.predict(PILImage.create('bird.jpg'))\n",
    "print(f\"This is a: {is_bird}.\")\n",
    "print(f\"Probability it is a bird: {probs[0]:.4f}\")"
   ]
  },
  {
   "cell_type": "code",
   "execution_count": 17,
   "id": "b87205f6",
   "metadata": {},
   "outputs": [],
   "source": [
    "# 5. Save the model\n",
    "learn.export('export.pkl')"
   ]
  },
  {
   "cell_type": "code",
   "execution_count": 18,
   "id": "ffd05af4",
   "metadata": {},
   "outputs": [
    {
     "name": "stderr",
     "output_type": "stream",
     "text": [
      "/Users/praveen/Documents/code/study/fastaicourse/venv/lib/python3.13/site-packages/fastai/learner.py:455: UserWarning: load_learner` uses Python's insecure pickle module, which can execute malicious arbitrary code when loading. Only load files you trust.\n",
      "If you only need to load model weights and optimizer state, use the safe `Learner.load` instead.\n",
      "  warn(\"load_learner` uses Python's insecure pickle module, which can execute malicious arbitrary code when loading. Only load files you trust.\\nIf you only need to load model weights and optimizer state, use the safe `Learner.load` instead.\")\n"
     ]
    },
    {
     "data": {
      "text/html": [
       "\n",
       "<style>\n",
       "    /* Turns off some styling */\n",
       "    progress {\n",
       "        /* gets rid of default border in Firefox and Opera. */\n",
       "        border: none;\n",
       "        /* Needs to be in here for Safari polyfill so background images work as expected. */\n",
       "        background-size: auto;\n",
       "    }\n",
       "    progress:not([value]), progress:not([value])::-webkit-progress-bar {\n",
       "        background: repeating-linear-gradient(45deg, #7e7e7e, #7e7e7e 10px, #5c5c5c 10px, #5c5c5c 20px);\n",
       "    }\n",
       "    .progress-bar-interrupted, .progress-bar-interrupted::-webkit-progress-bar {\n",
       "        background: #F44336;\n",
       "    }\n",
       "</style>\n"
      ],
      "text/plain": [
       "<IPython.core.display.HTML object>"
      ]
     },
     "metadata": {},
     "output_type": "display_data"
    },
    {
     "data": {
      "text/html": [],
      "text/plain": [
       "<IPython.core.display.HTML object>"
      ]
     },
     "metadata": {},
     "output_type": "display_data"
    },
    {
     "name": "stdout",
     "output_type": "stream",
     "text": [
      "This is a: bird.\n",
      "Probability it is a bird: 1.0000\n"
     ]
    },
    {
     "data": {
      "text/html": [
       "\n",
       "<style>\n",
       "    /* Turns off some styling */\n",
       "    progress {\n",
       "        /* gets rid of default border in Firefox and Opera. */\n",
       "        border: none;\n",
       "        /* Needs to be in here for Safari polyfill so background images work as expected. */\n",
       "        background-size: auto;\n",
       "    }\n",
       "    progress:not([value]), progress:not([value])::-webkit-progress-bar {\n",
       "        background: repeating-linear-gradient(45deg, #7e7e7e, #7e7e7e 10px, #5c5c5c 10px, #5c5c5c 20px);\n",
       "    }\n",
       "    .progress-bar-interrupted, .progress-bar-interrupted::-webkit-progress-bar {\n",
       "        background: #F44336;\n",
       "    }\n",
       "</style>\n"
      ],
      "text/plain": [
       "<IPython.core.display.HTML object>"
      ]
     },
     "metadata": {},
     "output_type": "display_data"
    },
    {
     "data": {
      "text/html": [],
      "text/plain": [
       "<IPython.core.display.HTML object>"
      ]
     },
     "metadata": {},
     "output_type": "display_data"
    },
    {
     "name": "stdout",
     "output_type": "stream",
     "text": [
      "This is a: forest.\n",
      "Probability it is a bird: 0.0000\n"
     ]
    }
   ],
   "source": [
    "from fastai.vision.all import *\n",
    "\n",
    "learn = load_learner('export.pkl')\n",
    "\n",
    "# Test the bird image\n",
    "is_bird,_,probs = learn.predict(PILImage.create('bird.jpg'))\n",
    "print(f\"This is a: {is_bird}.\")\n",
    "print(f\"Probability it is a bird: {probs[0]:.4f}\")\n",
    "\n",
    "# Test the forest image\n",
    "is_forest,_,probs = learn.predict(PILImage.create('forest.jpg'))\n",
    "print(f\"This is a: {is_forest}.\")\n",
    "print(f\"Probability it is a bird: {probs[0]:.4f}\")"
   ]
  }
 ],
 "metadata": {
  "kernelspec": {
   "display_name": "venv",
   "language": "python",
   "name": "python3"
  },
  "language_info": {
   "codemirror_mode": {
    "name": "ipython",
    "version": 3
   },
   "file_extension": ".py",
   "mimetype": "text/x-python",
   "name": "python",
   "nbconvert_exporter": "python",
   "pygments_lexer": "ipython3",
   "version": "3.13.5"
  }
 },
 "nbformat": 4,
 "nbformat_minor": 5
}
