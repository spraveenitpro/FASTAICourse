{
 "cells": [
  {
   "cell_type": "code",
   "execution_count": 4,
   "id": "80b633f5",
   "metadata": {},
   "outputs": [
    {
     "name": "stdout",
     "output_type": "stream",
     "text": [
      "Requirement already satisfied: fastai in /Users/praveen/Documents/code/study/fastaicourse/venv/lib/python3.13/site-packages (2.8.4)\n",
      "Requirement already satisfied: pip in /Users/praveen/Documents/code/study/fastaicourse/venv/lib/python3.13/site-packages (from fastai) (25.2)\n",
      "Requirement already satisfied: packaging in /Users/praveen/Documents/code/study/fastaicourse/venv/lib/python3.13/site-packages (from fastai) (25.0)\n",
      "Requirement already satisfied: fastdownload<2,>=0.0.5 in /Users/praveen/Documents/code/study/fastaicourse/venv/lib/python3.13/site-packages (from fastai) (0.0.7)\n",
      "Requirement already satisfied: fastcore<1.9,>=1.8.0 in /Users/praveen/Documents/code/study/fastaicourse/venv/lib/python3.13/site-packages (from fastai) (1.8.8)\n",
      "Requirement already satisfied: fasttransform>=0.0.2 in /Users/praveen/Documents/code/study/fastaicourse/venv/lib/python3.13/site-packages (from fastai) (0.0.2)\n",
      "Requirement already satisfied: torchvision>=0.11 in /Users/praveen/Documents/code/study/fastaicourse/venv/lib/python3.13/site-packages (from fastai) (0.23.0)\n",
      "Requirement already satisfied: matplotlib in /Users/praveen/Documents/code/study/fastaicourse/venv/lib/python3.13/site-packages (from fastai) (3.10.5)\n",
      "Requirement already satisfied: pandas in /Users/praveen/Documents/code/study/fastaicourse/venv/lib/python3.13/site-packages (from fastai) (2.3.2)\n",
      "Requirement already satisfied: requests in /Users/praveen/Documents/code/study/fastaicourse/venv/lib/python3.13/site-packages (from fastai) (2.32.5)\n",
      "Requirement already satisfied: pyyaml in /Users/praveen/Documents/code/study/fastaicourse/venv/lib/python3.13/site-packages (from fastai) (6.0.2)\n",
      "Requirement already satisfied: fastprogress>=0.2.4 in /Users/praveen/Documents/code/study/fastaicourse/venv/lib/python3.13/site-packages (from fastai) (1.0.3)\n",
      "Requirement already satisfied: pillow>=9.0.0 in /Users/praveen/Documents/code/study/fastaicourse/venv/lib/python3.13/site-packages (from fastai) (11.3.0)\n",
      "Requirement already satisfied: scikit-learn in /Users/praveen/Documents/code/study/fastaicourse/venv/lib/python3.13/site-packages (from fastai) (1.7.1)\n",
      "Requirement already satisfied: scipy in /Users/praveen/Documents/code/study/fastaicourse/venv/lib/python3.13/site-packages (from fastai) (1.16.1)\n",
      "Requirement already satisfied: spacy<4 in /Users/praveen/Documents/code/study/fastaicourse/venv/lib/python3.13/site-packages (from fastai) (3.8.7)\n",
      "Requirement already satisfied: plum-dispatch in /Users/praveen/Documents/code/study/fastaicourse/venv/lib/python3.13/site-packages (from fastai) (2.5.7)\n",
      "Requirement already satisfied: cloudpickle in /Users/praveen/Documents/code/study/fastaicourse/venv/lib/python3.13/site-packages (from fastai) (3.1.1)\n",
      "Requirement already satisfied: torch<2.9,>=1.10 in /Users/praveen/Documents/code/study/fastaicourse/venv/lib/python3.13/site-packages (from fastai) (2.8.0)\n",
      "Requirement already satisfied: spacy-legacy<3.1.0,>=3.0.11 in /Users/praveen/Documents/code/study/fastaicourse/venv/lib/python3.13/site-packages (from spacy<4->fastai) (3.0.12)\n",
      "Requirement already satisfied: spacy-loggers<2.0.0,>=1.0.0 in /Users/praveen/Documents/code/study/fastaicourse/venv/lib/python3.13/site-packages (from spacy<4->fastai) (1.0.5)\n",
      "Requirement already satisfied: murmurhash<1.1.0,>=0.28.0 in /Users/praveen/Documents/code/study/fastaicourse/venv/lib/python3.13/site-packages (from spacy<4->fastai) (1.0.13)\n",
      "Requirement already satisfied: cymem<2.1.0,>=2.0.2 in /Users/praveen/Documents/code/study/fastaicourse/venv/lib/python3.13/site-packages (from spacy<4->fastai) (2.0.11)\n",
      "Requirement already satisfied: preshed<3.1.0,>=3.0.2 in /Users/praveen/Documents/code/study/fastaicourse/venv/lib/python3.13/site-packages (from spacy<4->fastai) (3.0.10)\n",
      "Requirement already satisfied: thinc<8.4.0,>=8.3.4 in /Users/praveen/Documents/code/study/fastaicourse/venv/lib/python3.13/site-packages (from spacy<4->fastai) (8.3.6)\n",
      "Requirement already satisfied: wasabi<1.2.0,>=0.9.1 in /Users/praveen/Documents/code/study/fastaicourse/venv/lib/python3.13/site-packages (from spacy<4->fastai) (1.1.3)\n",
      "Requirement already satisfied: srsly<3.0.0,>=2.4.3 in /Users/praveen/Documents/code/study/fastaicourse/venv/lib/python3.13/site-packages (from spacy<4->fastai) (2.5.1)\n",
      "Requirement already satisfied: catalogue<2.1.0,>=2.0.6 in /Users/praveen/Documents/code/study/fastaicourse/venv/lib/python3.13/site-packages (from spacy<4->fastai) (2.0.10)\n",
      "Requirement already satisfied: weasel<0.5.0,>=0.1.0 in /Users/praveen/Documents/code/study/fastaicourse/venv/lib/python3.13/site-packages (from spacy<4->fastai) (0.4.1)\n",
      "Requirement already satisfied: typer<1.0.0,>=0.3.0 in /Users/praveen/Documents/code/study/fastaicourse/venv/lib/python3.13/site-packages (from spacy<4->fastai) (0.16.1)\n",
      "Requirement already satisfied: tqdm<5.0.0,>=4.38.0 in /Users/praveen/Documents/code/study/fastaicourse/venv/lib/python3.13/site-packages (from spacy<4->fastai) (4.67.1)\n",
      "Requirement already satisfied: numpy>=1.19.0 in /Users/praveen/Documents/code/study/fastaicourse/venv/lib/python3.13/site-packages (from spacy<4->fastai) (2.3.2)\n",
      "Requirement already satisfied: pydantic!=1.8,!=1.8.1,<3.0.0,>=1.7.4 in /Users/praveen/Documents/code/study/fastaicourse/venv/lib/python3.13/site-packages (from spacy<4->fastai) (2.11.7)\n",
      "Requirement already satisfied: jinja2 in /Users/praveen/Documents/code/study/fastaicourse/venv/lib/python3.13/site-packages (from spacy<4->fastai) (3.1.6)\n",
      "Requirement already satisfied: setuptools in /Users/praveen/Documents/code/study/fastaicourse/venv/lib/python3.13/site-packages (from spacy<4->fastai) (80.9.0)\n",
      "Requirement already satisfied: langcodes<4.0.0,>=3.2.0 in /Users/praveen/Documents/code/study/fastaicourse/venv/lib/python3.13/site-packages (from spacy<4->fastai) (3.5.0)\n",
      "Requirement already satisfied: language-data>=1.2 in /Users/praveen/Documents/code/study/fastaicourse/venv/lib/python3.13/site-packages (from langcodes<4.0.0,>=3.2.0->spacy<4->fastai) (1.3.0)\n",
      "Requirement already satisfied: annotated-types>=0.6.0 in /Users/praveen/Documents/code/study/fastaicourse/venv/lib/python3.13/site-packages (from pydantic!=1.8,!=1.8.1,<3.0.0,>=1.7.4->spacy<4->fastai) (0.7.0)\n",
      "Requirement already satisfied: pydantic-core==2.33.2 in /Users/praveen/Documents/code/study/fastaicourse/venv/lib/python3.13/site-packages (from pydantic!=1.8,!=1.8.1,<3.0.0,>=1.7.4->spacy<4->fastai) (2.33.2)\n",
      "Requirement already satisfied: typing-extensions>=4.12.2 in /Users/praveen/Documents/code/study/fastaicourse/venv/lib/python3.13/site-packages (from pydantic!=1.8,!=1.8.1,<3.0.0,>=1.7.4->spacy<4->fastai) (4.14.1)\n",
      "Requirement already satisfied: typing-inspection>=0.4.0 in /Users/praveen/Documents/code/study/fastaicourse/venv/lib/python3.13/site-packages (from pydantic!=1.8,!=1.8.1,<3.0.0,>=1.7.4->spacy<4->fastai) (0.4.1)\n",
      "Requirement already satisfied: charset_normalizer<4,>=2 in /Users/praveen/Documents/code/study/fastaicourse/venv/lib/python3.13/site-packages (from requests->fastai) (3.4.3)\n",
      "Requirement already satisfied: idna<4,>=2.5 in /Users/praveen/Documents/code/study/fastaicourse/venv/lib/python3.13/site-packages (from requests->fastai) (3.10)\n",
      "Requirement already satisfied: urllib3<3,>=1.21.1 in /Users/praveen/Documents/code/study/fastaicourse/venv/lib/python3.13/site-packages (from requests->fastai) (2.5.0)\n",
      "Requirement already satisfied: certifi>=2017.4.17 in /Users/praveen/Documents/code/study/fastaicourse/venv/lib/python3.13/site-packages (from requests->fastai) (2025.8.3)\n",
      "Requirement already satisfied: blis<1.4.0,>=1.3.0 in /Users/praveen/Documents/code/study/fastaicourse/venv/lib/python3.13/site-packages (from thinc<8.4.0,>=8.3.4->spacy<4->fastai) (1.3.0)\n",
      "Requirement already satisfied: confection<1.0.0,>=0.0.1 in /Users/praveen/Documents/code/study/fastaicourse/venv/lib/python3.13/site-packages (from thinc<8.4.0,>=8.3.4->spacy<4->fastai) (0.1.5)\n",
      "Requirement already satisfied: filelock in /Users/praveen/Documents/code/study/fastaicourse/venv/lib/python3.13/site-packages (from torch<2.9,>=1.10->fastai) (3.19.1)\n",
      "Requirement already satisfied: sympy>=1.13.3 in /Users/praveen/Documents/code/study/fastaicourse/venv/lib/python3.13/site-packages (from torch<2.9,>=1.10->fastai) (1.14.0)\n",
      "Requirement already satisfied: networkx in /Users/praveen/Documents/code/study/fastaicourse/venv/lib/python3.13/site-packages (from torch<2.9,>=1.10->fastai) (3.5)\n",
      "Requirement already satisfied: fsspec in /Users/praveen/Documents/code/study/fastaicourse/venv/lib/python3.13/site-packages (from torch<2.9,>=1.10->fastai) (2025.3.0)\n",
      "Requirement already satisfied: click>=8.0.0 in /Users/praveen/Documents/code/study/fastaicourse/venv/lib/python3.13/site-packages (from typer<1.0.0,>=0.3.0->spacy<4->fastai) (8.2.1)\n",
      "Requirement already satisfied: shellingham>=1.3.0 in /Users/praveen/Documents/code/study/fastaicourse/venv/lib/python3.13/site-packages (from typer<1.0.0,>=0.3.0->spacy<4->fastai) (1.5.4)\n",
      "Requirement already satisfied: rich>=10.11.0 in /Users/praveen/Documents/code/study/fastaicourse/venv/lib/python3.13/site-packages (from typer<1.0.0,>=0.3.0->spacy<4->fastai) (14.1.0)\n",
      "Requirement already satisfied: cloudpathlib<1.0.0,>=0.7.0 in /Users/praveen/Documents/code/study/fastaicourse/venv/lib/python3.13/site-packages (from weasel<0.5.0,>=0.1.0->spacy<4->fastai) (0.21.1)\n",
      "Requirement already satisfied: smart-open<8.0.0,>=5.2.1 in /Users/praveen/Documents/code/study/fastaicourse/venv/lib/python3.13/site-packages (from weasel<0.5.0,>=0.1.0->spacy<4->fastai) (7.3.0.post1)\n",
      "Requirement already satisfied: wrapt in /Users/praveen/Documents/code/study/fastaicourse/venv/lib/python3.13/site-packages (from smart-open<8.0.0,>=5.2.1->weasel<0.5.0,>=0.1.0->spacy<4->fastai) (1.17.3)\n",
      "Requirement already satisfied: marisa-trie>=1.1.0 in /Users/praveen/Documents/code/study/fastaicourse/venv/lib/python3.13/site-packages (from language-data>=1.2->langcodes<4.0.0,>=3.2.0->spacy<4->fastai) (1.3.0)\n",
      "Requirement already satisfied: markdown-it-py>=2.2.0 in /Users/praveen/Documents/code/study/fastaicourse/venv/lib/python3.13/site-packages (from rich>=10.11.0->typer<1.0.0,>=0.3.0->spacy<4->fastai) (4.0.0)\n",
      "Requirement already satisfied: pygments<3.0.0,>=2.13.0 in /Users/praveen/Documents/code/study/fastaicourse/venv/lib/python3.13/site-packages (from rich>=10.11.0->typer<1.0.0,>=0.3.0->spacy<4->fastai) (2.19.2)\n",
      "Requirement already satisfied: mdurl~=0.1 in /Users/praveen/Documents/code/study/fastaicourse/venv/lib/python3.13/site-packages (from markdown-it-py>=2.2.0->rich>=10.11.0->typer<1.0.0,>=0.3.0->spacy<4->fastai) (0.1.2)\n",
      "Requirement already satisfied: mpmath<1.4,>=1.1.0 in /Users/praveen/Documents/code/study/fastaicourse/venv/lib/python3.13/site-packages (from sympy>=1.13.3->torch<2.9,>=1.10->fastai) (1.3.0)\n",
      "Requirement already satisfied: MarkupSafe>=2.0 in /Users/praveen/Documents/code/study/fastaicourse/venv/lib/python3.13/site-packages (from jinja2->spacy<4->fastai) (3.0.2)\n",
      "Requirement already satisfied: contourpy>=1.0.1 in /Users/praveen/Documents/code/study/fastaicourse/venv/lib/python3.13/site-packages (from matplotlib->fastai) (1.3.3)\n",
      "Requirement already satisfied: cycler>=0.10 in /Users/praveen/Documents/code/study/fastaicourse/venv/lib/python3.13/site-packages (from matplotlib->fastai) (0.12.1)\n",
      "Requirement already satisfied: fonttools>=4.22.0 in /Users/praveen/Documents/code/study/fastaicourse/venv/lib/python3.13/site-packages (from matplotlib->fastai) (4.59.1)\n",
      "Requirement already satisfied: kiwisolver>=1.3.1 in /Users/praveen/Documents/code/study/fastaicourse/venv/lib/python3.13/site-packages (from matplotlib->fastai) (1.4.9)\n",
      "Requirement already satisfied: pyparsing>=2.3.1 in /Users/praveen/Documents/code/study/fastaicourse/venv/lib/python3.13/site-packages (from matplotlib->fastai) (3.2.3)\n",
      "Requirement already satisfied: python-dateutil>=2.7 in /Users/praveen/Documents/code/study/fastaicourse/venv/lib/python3.13/site-packages (from matplotlib->fastai) (2.9.0.post0)\n",
      "Requirement already satisfied: six>=1.5 in /Users/praveen/Documents/code/study/fastaicourse/venv/lib/python3.13/site-packages (from python-dateutil>=2.7->matplotlib->fastai) (1.17.0)\n",
      "Requirement already satisfied: pytz>=2020.1 in /Users/praveen/Documents/code/study/fastaicourse/venv/lib/python3.13/site-packages (from pandas->fastai) (2025.2)\n",
      "Requirement already satisfied: tzdata>=2022.7 in /Users/praveen/Documents/code/study/fastaicourse/venv/lib/python3.13/site-packages (from pandas->fastai) (2025.2)\n",
      "Requirement already satisfied: beartype>=0.16.2 in /Users/praveen/Documents/code/study/fastaicourse/venv/lib/python3.13/site-packages (from plum-dispatch->fastai) (0.21.0)\n",
      "Requirement already satisfied: joblib>=1.2.0 in /Users/praveen/Documents/code/study/fastaicourse/venv/lib/python3.13/site-packages (from scikit-learn->fastai) (1.5.1)\n",
      "Requirement already satisfied: threadpoolctl>=3.1.0 in /Users/praveen/Documents/code/study/fastaicourse/venv/lib/python3.13/site-packages (from scikit-learn->fastai) (3.6.0)\n",
      "Note: you may need to restart the kernel to use updated packages.\n"
     ]
    }
   ],
   "source": [
    "# 1. Install fastai\n",
    "%pip install fastai\n",
    "from fastai.vision.all import *\n"
   ]
  },
  {
   "cell_type": "code",
   "execution_count": null,
   "id": "e1d834c4",
   "metadata": {},
   "outputs": [
    {
     "ename": "TypeError",
     "evalue": "'NoneType' object is not iterable",
     "output_type": "error",
     "traceback": [
      "\u001b[31m---------------------------------------------------------------------------\u001b[39m",
      "\u001b[31mTypeError\u001b[39m                                 Traceback (most recent call last)",
      "\u001b[36mCell\u001b[39m\u001b[36m \u001b[39m\u001b[32mIn[5]\u001b[39m\u001b[32m, line 9\u001b[39m\n\u001b[32m      1\u001b[39m \u001b[38;5;66;03m# 2. Create a datablock\u001b[39;00m\n\u001b[32m      2\u001b[39m dblock = DataBlock(\n\u001b[32m      3\u001b[39m     blocks=(ImageBlock, CategoryBlock),\n\u001b[32m      4\u001b[39m     get_items=get_image_files,\n\u001b[32m   (...)\u001b[39m\u001b[32m      7\u001b[39m     item_tfms=Resize(\u001b[32m224\u001b[39m)\n\u001b[32m      8\u001b[39m )\n\u001b[32m----> \u001b[39m\u001b[32m9\u001b[39m dls = \u001b[43mdblock\u001b[49m\u001b[43m.\u001b[49m\u001b[43mdataloaders\u001b[49m\u001b[43m(\u001b[49m\u001b[33;43m'\u001b[39;49m\u001b[33;43mlesson1\u001b[39;49m\u001b[33;43m'\u001b[39;49m\u001b[43m)\u001b[49m\n",
      "\u001b[36mFile \u001b[39m\u001b[32m~/Documents/code/study/fastaicourse/venv/lib/python3.13/site-packages/fastai/data/block.py:157\u001b[39m, in \u001b[36mDataBlock.dataloaders\u001b[39m\u001b[34m(self, source, path, verbose, **kwargs)\u001b[39m\n\u001b[32m    151\u001b[39m \u001b[38;5;28;01mdef\u001b[39;00m\u001b[38;5;250m \u001b[39m\u001b[34mdataloaders\u001b[39m(\u001b[38;5;28mself\u001b[39m, \n\u001b[32m    152\u001b[39m     source, \u001b[38;5;66;03m# The data source\u001b[39;00m\n\u001b[32m    153\u001b[39m     path:\u001b[38;5;28mstr\u001b[39m=\u001b[33m'\u001b[39m\u001b[33m.\u001b[39m\u001b[33m'\u001b[39m, \u001b[38;5;66;03m# Data source and default `Learner` path \u001b[39;00m\n\u001b[32m    154\u001b[39m     verbose:\u001b[38;5;28mbool\u001b[39m=\u001b[38;5;28;01mFalse\u001b[39;00m, \u001b[38;5;66;03m# Show verbose messages\u001b[39;00m\n\u001b[32m    155\u001b[39m     **kwargs\n\u001b[32m    156\u001b[39m ) -> DataLoaders:\n\u001b[32m--> \u001b[39m\u001b[32m157\u001b[39m     dsets = \u001b[38;5;28;43mself\u001b[39;49m\u001b[43m.\u001b[49m\u001b[43mdatasets\u001b[49m\u001b[43m(\u001b[49m\u001b[43msource\u001b[49m\u001b[43m,\u001b[49m\u001b[43m \u001b[49m\u001b[43mverbose\u001b[49m\u001b[43m=\u001b[49m\u001b[43mverbose\u001b[49m\u001b[43m)\u001b[49m\n\u001b[32m    158\u001b[39m     kwargs = {**\u001b[38;5;28mself\u001b[39m.dls_kwargs, **kwargs, \u001b[33m'\u001b[39m\u001b[33mverbose\u001b[39m\u001b[33m'\u001b[39m: verbose}\n\u001b[32m    159\u001b[39m     \u001b[38;5;28;01mreturn\u001b[39;00m dsets.dataloaders(path=path, after_item=\u001b[38;5;28mself\u001b[39m.item_tfms, after_batch=\u001b[38;5;28mself\u001b[39m.batch_tfms, **kwargs)\n",
      "\u001b[36mFile \u001b[39m\u001b[32m~/Documents/code/study/fastaicourse/venv/lib/python3.13/site-packages/fastai/data/block.py:149\u001b[39m, in \u001b[36mDataBlock.datasets\u001b[39m\u001b[34m(self, source, verbose)\u001b[39m\n\u001b[32m    147\u001b[39m splits = (\u001b[38;5;28mself\u001b[39m.splitter \u001b[38;5;129;01mor\u001b[39;00m RandomSplitter())(items)\n\u001b[32m    148\u001b[39m pv(\u001b[33mf\u001b[39m\u001b[33m\"\u001b[39m\u001b[38;5;132;01m{\u001b[39;00m\u001b[38;5;28mlen\u001b[39m(splits)\u001b[38;5;132;01m}\u001b[39;00m\u001b[33m datasets of sizes \u001b[39m\u001b[38;5;132;01m{\u001b[39;00m\u001b[33m'\u001b[39m\u001b[33m,\u001b[39m\u001b[33m'\u001b[39m.join([\u001b[38;5;28mstr\u001b[39m(\u001b[38;5;28mlen\u001b[39m(s))\u001b[38;5;250m \u001b[39m\u001b[38;5;28;01mfor\u001b[39;00m\u001b[38;5;250m \u001b[39ms\u001b[38;5;250m \u001b[39m\u001b[38;5;129;01min\u001b[39;00m\u001b[38;5;250m \u001b[39msplits])\u001b[38;5;132;01m}\u001b[39;00m\u001b[33m\"\u001b[39m, verbose)\n\u001b[32m--> \u001b[39m\u001b[32m149\u001b[39m \u001b[38;5;28;01mreturn\u001b[39;00m \u001b[43mDatasets\u001b[49m\u001b[43m(\u001b[49m\u001b[43mitems\u001b[49m\u001b[43m,\u001b[49m\u001b[43m \u001b[49m\u001b[43mtfms\u001b[49m\u001b[43m=\u001b[49m\u001b[38;5;28;43mself\u001b[39;49m\u001b[43m.\u001b[49m\u001b[43m_combine_type_tfms\u001b[49m\u001b[43m(\u001b[49m\u001b[43m)\u001b[49m\u001b[43m,\u001b[49m\u001b[43m \u001b[49m\u001b[43msplits\u001b[49m\u001b[43m=\u001b[49m\u001b[43msplits\u001b[49m\u001b[43m,\u001b[49m\u001b[43m \u001b[49m\u001b[43mdl_type\u001b[49m\u001b[43m=\u001b[49m\u001b[38;5;28;43mself\u001b[39;49m\u001b[43m.\u001b[49m\u001b[43mdl_type\u001b[49m\u001b[43m,\u001b[49m\u001b[43m \u001b[49m\u001b[43mn_inp\u001b[49m\u001b[43m=\u001b[49m\u001b[38;5;28;43mself\u001b[39;49m\u001b[43m.\u001b[49m\u001b[43mn_inp\u001b[49m\u001b[43m,\u001b[49m\u001b[43m \u001b[49m\u001b[43mverbose\u001b[49m\u001b[43m=\u001b[49m\u001b[43mverbose\u001b[49m\u001b[43m)\u001b[49m\n",
      "\u001b[36mFile \u001b[39m\u001b[32m~/Documents/code/study/fastaicourse/venv/lib/python3.13/site-packages/fastai/data/core.py:450\u001b[39m, in \u001b[36mDatasets.__init__\u001b[39m\u001b[34m(self, items, tfms, tls, n_inp, dl_type, **kwargs)\u001b[39m\n\u001b[32m    441\u001b[39m \u001b[38;5;28;01mdef\u001b[39;00m\u001b[38;5;250m \u001b[39m\u001b[34m__init__\u001b[39m(\u001b[38;5;28mself\u001b[39m, \n\u001b[32m    442\u001b[39m     items:\u001b[38;5;28mlist\u001b[39m=\u001b[38;5;28;01mNone\u001b[39;00m, \u001b[38;5;66;03m# List of items to create `Datasets`\u001b[39;00m\n\u001b[32m    443\u001b[39m     tfms:MutableSequence|Pipeline=\u001b[38;5;28;01mNone\u001b[39;00m, \u001b[38;5;66;03m# List of `Transform`(s) or `Pipeline` to apply\u001b[39;00m\n\u001b[32m   (...)\u001b[39m\u001b[32m    447\u001b[39m     **kwargs\n\u001b[32m    448\u001b[39m ):\n\u001b[32m    449\u001b[39m     \u001b[38;5;28msuper\u001b[39m().\u001b[34m__init__\u001b[39m(dl_type=dl_type)\n\u001b[32m--> \u001b[39m\u001b[32m450\u001b[39m     \u001b[38;5;28mself\u001b[39m.tls = L(tls \u001b[38;5;28;01mif\u001b[39;00m tls \u001b[38;5;28;01melse\u001b[39;00m [\u001b[43mTfmdLists\u001b[49m\u001b[43m(\u001b[49m\u001b[43mitems\u001b[49m\u001b[43m,\u001b[49m\u001b[43m \u001b[49m\u001b[43mt\u001b[49m\u001b[43m,\u001b[49m\u001b[43m \u001b[49m\u001b[43m*\u001b[49m\u001b[43m*\u001b[49m\u001b[43mkwargs\u001b[49m\u001b[43m)\u001b[49m \u001b[38;5;28;01mfor\u001b[39;00m t \u001b[38;5;129;01min\u001b[39;00m L(ifnone(tfms,[\u001b[38;5;28;01mNone\u001b[39;00m]))])\n\u001b[32m    451\u001b[39m     \u001b[38;5;28mself\u001b[39m.n_inp = ifnone(n_inp, \u001b[38;5;28mmax\u001b[39m(\u001b[32m1\u001b[39m, \u001b[38;5;28mlen\u001b[39m(\u001b[38;5;28mself\u001b[39m.tls)-\u001b[32m1\u001b[39m))\n",
      "\u001b[36mFile \u001b[39m\u001b[32m~/Documents/code/study/fastaicourse/venv/lib/python3.13/site-packages/fastcore/foundation.py:100\u001b[39m, in \u001b[36m_L_Meta.__call__\u001b[39m\u001b[34m(cls, x, *args, **kwargs)\u001b[39m\n\u001b[32m     98\u001b[39m \u001b[38;5;28;01mdef\u001b[39;00m\u001b[38;5;250m \u001b[39m\u001b[34m__call__\u001b[39m(\u001b[38;5;28mcls\u001b[39m, x=\u001b[38;5;28;01mNone\u001b[39;00m, *args, **kwargs):\n\u001b[32m     99\u001b[39m     \u001b[38;5;28;01mif\u001b[39;00m \u001b[38;5;129;01mnot\u001b[39;00m args \u001b[38;5;129;01mand\u001b[39;00m \u001b[38;5;129;01mnot\u001b[39;00m kwargs \u001b[38;5;129;01mand\u001b[39;00m x \u001b[38;5;129;01mis\u001b[39;00m \u001b[38;5;129;01mnot\u001b[39;00m \u001b[38;5;28;01mNone\u001b[39;00m \u001b[38;5;129;01mand\u001b[39;00m \u001b[38;5;28misinstance\u001b[39m(x,\u001b[38;5;28mcls\u001b[39m): \u001b[38;5;28;01mreturn\u001b[39;00m x\n\u001b[32m--> \u001b[39m\u001b[32m100\u001b[39m     \u001b[38;5;28;01mreturn\u001b[39;00m \u001b[38;5;28;43msuper\u001b[39;49m\u001b[43m(\u001b[49m\u001b[43m)\u001b[49m\u001b[43m.\u001b[49m\u001b[34;43m__call__\u001b[39;49m\u001b[43m(\u001b[49m\u001b[43mx\u001b[49m\u001b[43m,\u001b[49m\u001b[43m \u001b[49m\u001b[43m*\u001b[49m\u001b[43margs\u001b[49m\u001b[43m,\u001b[49m\u001b[43m \u001b[49m\u001b[43m*\u001b[49m\u001b[43m*\u001b[49m\u001b[43mkwargs\u001b[49m\u001b[43m)\u001b[49m\n",
      "\u001b[36mFile \u001b[39m\u001b[32m~/Documents/code/study/fastaicourse/venv/lib/python3.13/site-packages/fastai/data/core.py:364\u001b[39m, in \u001b[36mTfmdLists.__init__\u001b[39m\u001b[34m(self, items, tfms, use_list, do_setup, split_idx, train_setup, splits, types, verbose, dl_type)\u001b[39m\n\u001b[32m    362\u001b[39m \u001b[38;5;28;01mif\u001b[39;00m do_setup:\n\u001b[32m    363\u001b[39m     pv(\u001b[33mf\u001b[39m\u001b[33m\"\u001b[39m\u001b[33mSetting up \u001b[39m\u001b[38;5;132;01m{\u001b[39;00m\u001b[38;5;28mself\u001b[39m.tfms\u001b[38;5;132;01m}\u001b[39;00m\u001b[33m\"\u001b[39m, verbose)\n\u001b[32m--> \u001b[39m\u001b[32m364\u001b[39m     \u001b[38;5;28;43mself\u001b[39;49m\u001b[43m.\u001b[49m\u001b[43msetup\u001b[49m\u001b[43m(\u001b[49m\u001b[43mtrain_setup\u001b[49m\u001b[43m=\u001b[49m\u001b[43mtrain_setup\u001b[49m\u001b[43m)\u001b[49m\n",
      "\u001b[36mFile \u001b[39m\u001b[32m~/Documents/code/study/fastaicourse/venv/lib/python3.13/site-packages/fastai/data/core.py:393\u001b[39m, in \u001b[36mTfmdLists.setup\u001b[39m\u001b[34m(self, train_setup)\u001b[39m\n\u001b[32m    391\u001b[39m         x = f(x)\n\u001b[32m    392\u001b[39m     \u001b[38;5;28mself\u001b[39m.types.append(\u001b[38;5;28mtype\u001b[39m(x))\n\u001b[32m--> \u001b[39m\u001b[32m393\u001b[39m types = L\u001b[43m(\u001b[49m\u001b[43mt\u001b[49m\u001b[43m \u001b[49m\u001b[38;5;28;43;01mif\u001b[39;49;00m\u001b[43m \u001b[49m\u001b[43mis_listy\u001b[49m\u001b[43m(\u001b[49m\u001b[43mt\u001b[49m\u001b[43m)\u001b[49m\u001b[43m \u001b[49m\u001b[38;5;28;43;01melse\u001b[39;49;00m\u001b[43m \u001b[49m\u001b[43m[\u001b[49m\u001b[43mt\u001b[49m\u001b[43m]\u001b[49m\u001b[43m \u001b[49m\u001b[38;5;28;43;01mfor\u001b[39;49;00m\u001b[43m \u001b[49m\u001b[43mt\u001b[49m\u001b[43m \u001b[49m\u001b[38;5;129;43;01min\u001b[39;49;00m\u001b[43m \u001b[49m\u001b[38;5;28;43mself\u001b[39;49m\u001b[43m.\u001b[49m\u001b[43mtypes\u001b[49m\u001b[43m)\u001b[49m.concat().unique()\n\u001b[32m    394\u001b[39m \u001b[38;5;28mself\u001b[39m.pretty_types = \u001b[33m'\u001b[39m\u001b[38;5;130;01m\\n\u001b[39;00m\u001b[33m'\u001b[39m.join([\u001b[33mf\u001b[39m\u001b[33m'\u001b[39m\u001b[33m  - \u001b[39m\u001b[38;5;132;01m{\u001b[39;00mt\u001b[38;5;132;01m}\u001b[39;00m\u001b[33m'\u001b[39m \u001b[38;5;28;01mfor\u001b[39;00m t \u001b[38;5;129;01min\u001b[39;00m types])\n",
      "\u001b[31mTypeError\u001b[39m: 'NoneType' object is not iterable"
     ]
    }
   ],
   "source": [
    "# 2. Create a datablock\n",
    "dblock = DataBlock(\n",
    "    blocks=(ImageBlock, CategoryBlock),\n",
    "    get_items=get_image_files,\n",
    "    get_y=parent_label,\n",
    "    splitter=RandomSplitter(seed=42),\n",
    "    item_tfms=Resize(224)\n",
    ")\n",
    "dls = dblock.dataloaders('bird_or_not')"
   ]
  },
  {
   "cell_type": "code",
   "execution_count": null,
   "id": "9d35a594",
   "metadata": {},
   "outputs": [],
   "source": [
    "# 3. Train the model\n",
    "learn = vision_learner(dls, resnet18, metrics=accuracy)\n",
    "learn.fine_tune(3)"
   ]
  },
  {
   "cell_type": "code",
   "execution_count": null,
   "id": "eab50969",
   "metadata": {},
   "outputs": [],
   "source": [
    "# 4. Use the model\n",
    "is_bird,_,probs = learn.predict(PILImage.create('lesson1/bird.jpg'))\n",
    "print(f\"This is a: {is_bird}.\")\n",
    "print(f\"Probability it is a bird: {probs[0]:.4f}\")"
   ]
  },
  {
   "cell_type": "code",
   "execution_count": null,
   "id": "b87205f6",
   "metadata": {},
   "outputs": [],
   "source": [
    "# 5. Save the model\n",
    "learn.export('lesson1/export.pkl')"
   ]
  },
  {
   "cell_type": "code",
   "execution_count": null,
   "id": "ffd05af4",
   "metadata": {},
   "outputs": [],
   "source": [
    "from fastai.vision.all import *\n",
    "\n",
    "learn = load_learner('lesson1/export.pkl')\n",
    "\n",
    "# Test the bird image\n",
    "is_bird,_,probs = learn.predict(PILImage.create('lesson1/bird.jpg'))\n",
    "print(f\"This is a: {is_bird}.\")\n",
    "print(f\"Probability it is a bird: {probs[0]:.4f}\")\n",
    "\n",
    "# Test the forest image\n",
    "is_forest,_,probs = learn.predict(PILImage.create('lesson1/forest.jpg'))\n",
    "print(f\"This is a: {is_forest}.\")\n",
    "print(f\"Probability it is a bird: {probs[0]:.4f}\")"
   ]
  }
 ],
 "metadata": {
  "kernelspec": {
   "display_name": "venv",
   "language": "python",
   "name": "python3"
  },
  "language_info": {
   "codemirror_mode": {
    "name": "ipython",
    "version": 3
   },
   "file_extension": ".py",
   "mimetype": "text/x-python",
   "name": "python",
   "nbconvert_exporter": "python",
   "pygments_lexer": "ipython3",
   "version": "3.13.5"
  }
 },
 "nbformat": 4,
 "nbformat_minor": 5
}
